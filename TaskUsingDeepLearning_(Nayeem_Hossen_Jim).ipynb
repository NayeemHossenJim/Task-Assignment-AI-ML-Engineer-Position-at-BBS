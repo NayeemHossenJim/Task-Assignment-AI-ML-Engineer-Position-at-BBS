{
 "cells": [
  {
   "cell_type": "code",
   "execution_count": 1,
   "metadata": {
    "execution": {
     "iopub.execute_input": "2025-08-13T07:58:44.606284Z",
     "iopub.status.busy": "2025-08-13T07:58:44.605556Z",
     "iopub.status.idle": "2025-08-13T07:58:48.624900Z",
     "shell.execute_reply": "2025-08-13T07:58:48.623964Z",
     "shell.execute_reply.started": "2025-08-13T07:58:44.606258Z"
    },
    "trusted": true
   },
   "outputs": [
    {
     "name": "stdout",
     "output_type": "stream",
     "text": [
      "Requirement already satisfied: nltk in /usr/local/lib/python3.11/dist-packages (3.9.1)\n",
      "Requirement already satisfied: click in /usr/local/lib/python3.11/dist-packages (from nltk) (8.2.1)\n",
      "Requirement already satisfied: joblib in /usr/local/lib/python3.11/dist-packages (from nltk) (1.5.1)\n",
      "Requirement already satisfied: regex>=2021.8.3 in /usr/local/lib/python3.11/dist-packages (from nltk) (2024.11.6)\n",
      "Requirement already satisfied: tqdm in /usr/local/lib/python3.11/dist-packages (from nltk) (4.67.1)\n"
     ]
    }
   ],
   "source": [
    "!pip install nltk"
   ]
  },
  {
   "cell_type": "code",
   "execution_count": 2,
   "metadata": {
    "execution": {
     "iopub.execute_input": "2025-08-13T07:58:48.626311Z",
     "iopub.status.busy": "2025-08-13T07:58:48.626017Z",
     "iopub.status.idle": "2025-08-13T07:59:10.605437Z",
     "shell.execute_reply": "2025-08-13T07:59:10.604664Z",
     "shell.execute_reply.started": "2025-08-13T07:58:48.626280Z"
    },
    "trusted": true
   },
   "outputs": [
    {
     "name": "stderr",
     "output_type": "stream",
     "text": [
      "2025-08-13 07:58:51.647199: E external/local_xla/xla/stream_executor/cuda/cuda_fft.cc:477] Unable to register cuFFT factory: Attempting to register factory for plugin cuFFT when one has already been registered\n",
      "WARNING: All log messages before absl::InitializeLog() is called are written to STDERR\n",
      "E0000 00:00:1755071931.822777      36 cuda_dnn.cc:8310] Unable to register cuDNN factory: Attempting to register factory for plugin cuDNN when one has already been registered\n",
      "E0000 00:00:1755071931.873321      36 cuda_blas.cc:1418] Unable to register cuBLAS factory: Attempting to register factory for plugin cuBLAS when one has already been registered\n"
     ]
    }
   ],
   "source": [
    "import pandas as pd\n",
    "from bs4 import BeautifulSoup\n",
    "import re\n",
    "import pickle\n",
    "import nltk\n",
    "import tensorflow as tf\n",
    "from transformers import BertTokenizer, TFBertModel\n",
    "from tensorflow.keras.layers import Input, LSTM,Embedding, Dense, Bidirectional, Dropout\n",
    "from sklearn.model_selection import train_test_split\n",
    "from tensorflow.keras.preprocessing.text import Tokenizer\n",
    "from tensorflow.keras.preprocessing.sequence import pad_sequences\n",
    "from tensorflow.keras.models import Sequential\n",
    "from nltk.corpus import stopwords\n",
    "from nltk.stem import WordNetLemmatizer\n",
    "from sklearn.feature_extraction.text import TfidfVectorizer\n",
    "from sklearn.linear_model import LogisticRegression"
   ]
  },
  {
   "cell_type": "code",
   "execution_count": 3,
   "metadata": {
    "execution": {
     "iopub.execute_input": "2025-08-13T07:59:10.607494Z",
     "iopub.status.busy": "2025-08-13T07:59:10.607001Z",
     "iopub.status.idle": "2025-08-13T07:59:10.898029Z",
     "shell.execute_reply": "2025-08-13T07:59:10.897292Z",
     "shell.execute_reply.started": "2025-08-13T07:59:10.607475Z"
    },
    "trusted": true
   },
   "outputs": [
    {
     "name": "stderr",
     "output_type": "stream",
     "text": [
      "[nltk_data] Downloading package wordnet to /usr/share/nltk_data...\n",
      "[nltk_data]   Package wordnet is already up-to-date!\n",
      "[nltk_data] Downloading package stopwords to /usr/share/nltk_data...\n",
      "[nltk_data]   Package stopwords is already up-to-date!\n"
     ]
    },
    {
     "data": {
      "text/plain": [
       "True"
      ]
     },
     "execution_count": 3,
     "metadata": {},
     "output_type": "execute_result"
    }
   ],
   "source": [
    "nltk.download('wordnet')\n",
    "nltk.download('stopwords')"
   ]
  },
  {
   "cell_type": "code",
   "execution_count": 4,
   "metadata": {
    "execution": {
     "iopub.execute_input": "2025-08-13T07:59:10.898981Z",
     "iopub.status.busy": "2025-08-13T07:59:10.898740Z",
     "iopub.status.idle": "2025-08-13T07:59:11.545940Z",
     "shell.execute_reply": "2025-08-13T07:59:11.545163Z",
     "shell.execute_reply.started": "2025-08-13T07:59:10.898963Z"
    },
    "trusted": true
   },
   "outputs": [],
   "source": [
    "movie_review = pd.read_csv(\"/kaggle/input/imdb-movie-reviews-dataset/train_data (1).csv\",encoding='ISO-8859-1') # Load the datasets with proper encoding"
   ]
  },
  {
   "cell_type": "code",
   "execution_count": 5,
   "metadata": {
    "execution": {
     "iopub.execute_input": "2025-08-13T07:59:11.547175Z",
     "iopub.status.busy": "2025-08-13T07:59:11.546886Z",
     "iopub.status.idle": "2025-08-13T07:59:11.555042Z",
     "shell.execute_reply": "2025-08-13T07:59:11.554268Z",
     "shell.execute_reply.started": "2025-08-13T07:59:11.547151Z"
    },
    "trusted": true
   },
   "outputs": [],
   "source": [
    "movie_review.rename(columns={'0': 'Reviews', '1': 'Sentiment'}, inplace=True) "
   ]
  },
  {
   "cell_type": "code",
   "execution_count": 6,
   "metadata": {
    "execution": {
     "iopub.execute_input": "2025-08-13T07:59:11.555983Z",
     "iopub.status.busy": "2025-08-13T07:59:11.555702Z",
     "iopub.status.idle": "2025-08-13T07:59:11.583348Z",
     "shell.execute_reply": "2025-08-13T07:59:11.582603Z",
     "shell.execute_reply.started": "2025-08-13T07:59:11.555956Z"
    },
    "trusted": true
   },
   "outputs": [
    {
     "data": {
      "text/html": [
       "<div>\n",
       "<style scoped>\n",
       "    .dataframe tbody tr th:only-of-type {\n",
       "        vertical-align: middle;\n",
       "    }\n",
       "\n",
       "    .dataframe tbody tr th {\n",
       "        vertical-align: top;\n",
       "    }\n",
       "\n",
       "    .dataframe thead th {\n",
       "        text-align: right;\n",
       "    }\n",
       "</style>\n",
       "<table border=\"1\" class=\"dataframe\">\n",
       "  <thead>\n",
       "    <tr style=\"text-align: right;\">\n",
       "      <th></th>\n",
       "      <th>Reviews</th>\n",
       "      <th>Sentiment</th>\n",
       "    </tr>\n",
       "  </thead>\n",
       "  <tbody>\n",
       "    <tr>\n",
       "      <th>0</th>\n",
       "      <td>This film is absolutely awful, but nevertheles...</td>\n",
       "      <td>0</td>\n",
       "    </tr>\n",
       "    <tr>\n",
       "      <th>1</th>\n",
       "      <td>Well since seeing part's 1 through 3 I can hon...</td>\n",
       "      <td>0</td>\n",
       "    </tr>\n",
       "    <tr>\n",
       "      <th>2</th>\n",
       "      <td>I got to see this film at a preview and was da...</td>\n",
       "      <td>1</td>\n",
       "    </tr>\n",
       "    <tr>\n",
       "      <th>3</th>\n",
       "      <td>This adaptation positively butchers a classic ...</td>\n",
       "      <td>0</td>\n",
       "    </tr>\n",
       "    <tr>\n",
       "      <th>4</th>\n",
       "      <td>RÃ¥zone is an awful movie! It is so simple. It...</td>\n",
       "      <td>0</td>\n",
       "    </tr>\n",
       "  </tbody>\n",
       "</table>\n",
       "</div>"
      ],
      "text/plain": [
       "                                             Reviews  Sentiment\n",
       "0  This film is absolutely awful, but nevertheles...          0\n",
       "1  Well since seeing part's 1 through 3 I can hon...          0\n",
       "2  I got to see this film at a preview and was da...          1\n",
       "3  This adaptation positively butchers a classic ...          0\n",
       "4  RÃ¥zone is an awful movie! It is so simple. It...          0"
      ]
     },
     "execution_count": 6,
     "metadata": {},
     "output_type": "execute_result"
    }
   ],
   "source": [
    "movie_review.head()"
   ]
  },
  {
   "cell_type": "code",
   "execution_count": 7,
   "metadata": {
    "execution": {
     "iopub.execute_input": "2025-08-13T07:59:11.584222Z",
     "iopub.status.busy": "2025-08-13T07:59:11.584013Z",
     "iopub.status.idle": "2025-08-13T07:59:11.588415Z",
     "shell.execute_reply": "2025-08-13T07:59:11.587702Z",
     "shell.execute_reply.started": "2025-08-13T07:59:11.584205Z"
    },
    "trusted": true
   },
   "outputs": [],
   "source": [
    "def clean_text(text):\n",
    "    # Remove HTML tags using BeautifulSoup\n",
    "    soup = BeautifulSoup(text, \"html.parser\")\n",
    "    text_without_html = soup.get_text()\n",
    "\n",
    "    cleaned_text = re.sub(r'[^\\w\\s]', '', text_without_html)  # Remove punctuation\n",
    "    cleaned_text = re.sub(r'\\d+', '', cleaned_text)  # Remove numbers\n",
    "\n",
    "    cleaned_text = cleaned_text.lower() #Convert to lower\n",
    "    return cleaned_text"
   ]
  },
  {
   "cell_type": "code",
   "execution_count": 8,
   "metadata": {
    "execution": {
     "iopub.execute_input": "2025-08-13T07:59:11.589640Z",
     "iopub.status.busy": "2025-08-13T07:59:11.589424Z",
     "iopub.status.idle": "2025-08-13T07:59:15.969771Z",
     "shell.execute_reply": "2025-08-13T07:59:15.969198Z",
     "shell.execute_reply.started": "2025-08-13T07:59:11.589623Z"
    },
    "trusted": true
   },
   "outputs": [],
   "source": [
    "movie_review['Reviews'] = movie_review['Reviews'].apply(clean_text)"
   ]
  },
  {
   "cell_type": "code",
   "execution_count": 9,
   "metadata": {
    "execution": {
     "iopub.execute_input": "2025-08-13T07:59:15.972028Z",
     "iopub.status.busy": "2025-08-13T07:59:15.971815Z",
     "iopub.status.idle": "2025-08-13T07:59:15.978550Z",
     "shell.execute_reply": "2025-08-13T07:59:15.978052Z",
     "shell.execute_reply.started": "2025-08-13T07:59:15.972011Z"
    },
    "trusted": true
   },
   "outputs": [
    {
     "data": {
      "text/html": [
       "<div>\n",
       "<style scoped>\n",
       "    .dataframe tbody tr th:only-of-type {\n",
       "        vertical-align: middle;\n",
       "    }\n",
       "\n",
       "    .dataframe tbody tr th {\n",
       "        vertical-align: top;\n",
       "    }\n",
       "\n",
       "    .dataframe thead th {\n",
       "        text-align: right;\n",
       "    }\n",
       "</style>\n",
       "<table border=\"1\" class=\"dataframe\">\n",
       "  <thead>\n",
       "    <tr style=\"text-align: right;\">\n",
       "      <th></th>\n",
       "      <th>Reviews</th>\n",
       "      <th>Sentiment</th>\n",
       "    </tr>\n",
       "  </thead>\n",
       "  <tbody>\n",
       "    <tr>\n",
       "      <th>0</th>\n",
       "      <td>this film is absolutely awful but nevertheless...</td>\n",
       "      <td>0</td>\n",
       "    </tr>\n",
       "    <tr>\n",
       "      <th>1</th>\n",
       "      <td>well since seeing parts  through  i can honest...</td>\n",
       "      <td>0</td>\n",
       "    </tr>\n",
       "    <tr>\n",
       "      <th>2</th>\n",
       "      <td>i got to see this film at a preview and was da...</td>\n",
       "      <td>1</td>\n",
       "    </tr>\n",
       "    <tr>\n",
       "      <th>3</th>\n",
       "      <td>this adaptation positively butchers a classic ...</td>\n",
       "      <td>0</td>\n",
       "    </tr>\n",
       "    <tr>\n",
       "      <th>4</th>\n",
       "      <td>rãzone is an awful movie it is so simple it se...</td>\n",
       "      <td>0</td>\n",
       "    </tr>\n",
       "  </tbody>\n",
       "</table>\n",
       "</div>"
      ],
      "text/plain": [
       "                                             Reviews  Sentiment\n",
       "0  this film is absolutely awful but nevertheless...          0\n",
       "1  well since seeing parts  through  i can honest...          0\n",
       "2  i got to see this film at a preview and was da...          1\n",
       "3  this adaptation positively butchers a classic ...          0\n",
       "4  rãzone is an awful movie it is so simple it se...          0"
      ]
     },
     "execution_count": 9,
     "metadata": {},
     "output_type": "execute_result"
    }
   ],
   "source": [
    "movie_review.head()"
   ]
  },
  {
   "cell_type": "code",
   "execution_count": 10,
   "metadata": {
    "execution": {
     "iopub.execute_input": "2025-08-13T07:59:15.979358Z",
     "iopub.status.busy": "2025-08-13T07:59:15.979199Z",
     "iopub.status.idle": "2025-08-13T07:59:16.028350Z",
     "shell.execute_reply": "2025-08-13T07:59:16.027775Z",
     "shell.execute_reply.started": "2025-08-13T07:59:15.979346Z"
    },
    "trusted": true
   },
   "outputs": [
    {
     "data": {
      "text/plain": [
       "Reviews      0\n",
       "Sentiment    0\n",
       "dtype: int64"
      ]
     },
     "execution_count": 10,
     "metadata": {},
     "output_type": "execute_result"
    }
   ],
   "source": [
    "movie_review.isnull().sum()"
   ]
  },
  {
   "cell_type": "code",
   "execution_count": 11,
   "metadata": {
    "execution": {
     "iopub.execute_input": "2025-08-13T07:59:16.029121Z",
     "iopub.status.busy": "2025-08-13T07:59:16.028928Z",
     "iopub.status.idle": "2025-08-13T07:59:16.044841Z",
     "shell.execute_reply": "2025-08-13T07:59:16.044304Z",
     "shell.execute_reply.started": "2025-08-13T07:59:16.029098Z"
    },
    "trusted": true
   },
   "outputs": [
    {
     "data": {
      "text/plain": [
       "Sentiment\n",
       "0    12500\n",
       "1    12500\n",
       "Name: count, dtype: int64"
      ]
     },
     "execution_count": 11,
     "metadata": {},
     "output_type": "execute_result"
    }
   ],
   "source": [
    "movie_review[\"Sentiment\"].value_counts()"
   ]
  },
  {
   "cell_type": "code",
   "execution_count": 12,
   "metadata": {
    "execution": {
     "iopub.execute_input": "2025-08-13T07:59:16.045583Z",
     "iopub.status.busy": "2025-08-13T07:59:16.045395Z",
     "iopub.status.idle": "2025-08-13T07:59:16.056742Z",
     "shell.execute_reply": "2025-08-13T07:59:16.056078Z",
     "shell.execute_reply.started": "2025-08-13T07:59:16.045569Z"
    },
    "trusted": true
   },
   "outputs": [],
   "source": [
    "lemmatizer = WordNetLemmatizer()"
   ]
  },
  {
   "cell_type": "code",
   "execution_count": 13,
   "metadata": {
    "execution": {
     "iopub.execute_input": "2025-08-13T07:59:16.057735Z",
     "iopub.status.busy": "2025-08-13T07:59:16.057469Z",
     "iopub.status.idle": "2025-08-13T07:59:16.069814Z",
     "shell.execute_reply": "2025-08-13T07:59:16.069163Z",
     "shell.execute_reply.started": "2025-08-13T07:59:16.057709Z"
    },
    "trusted": true
   },
   "outputs": [],
   "source": [
    "def lemmatize_content(content):\n",
    "    lemmatized_content = re.sub('[^a-zA-Z]', ' ', content)\n",
    "    lemmatized_content = lemmatized_content.lower().split()\n",
    "    lemmatized_content = [lemmatizer.lemmatize(word) for word in lemmatized_content if word not in stopwords.words('english')]\n",
    "    lemmatized_content = ' '.join(lemmatized_content)\n",
    "    return lemmatized_content"
   ]
  },
  {
   "cell_type": "code",
   "execution_count": 14,
   "metadata": {
    "execution": {
     "iopub.execute_input": "2025-08-13T07:59:16.070771Z",
     "iopub.status.busy": "2025-08-13T07:59:16.070519Z",
     "iopub.status.idle": "2025-08-13T08:06:47.279609Z",
     "shell.execute_reply": "2025-08-13T08:06:47.279057Z",
     "shell.execute_reply.started": "2025-08-13T07:59:16.070755Z"
    },
    "trusted": true
   },
   "outputs": [],
   "source": [
    "movie_review['Reviews'] = movie_review['Reviews'].apply(lemmatize_content)"
   ]
  },
  {
   "cell_type": "code",
   "execution_count": 15,
   "metadata": {
    "execution": {
     "iopub.execute_input": "2025-08-13T08:06:47.280474Z",
     "iopub.status.busy": "2025-08-13T08:06:47.280270Z",
     "iopub.status.idle": "2025-08-13T08:06:47.287733Z",
     "shell.execute_reply": "2025-08-13T08:06:47.286998Z",
     "shell.execute_reply.started": "2025-08-13T08:06:47.280459Z"
    },
    "trusted": true
   },
   "outputs": [
    {
     "data": {
      "text/html": [
       "<div>\n",
       "<style scoped>\n",
       "    .dataframe tbody tr th:only-of-type {\n",
       "        vertical-align: middle;\n",
       "    }\n",
       "\n",
       "    .dataframe tbody tr th {\n",
       "        vertical-align: top;\n",
       "    }\n",
       "\n",
       "    .dataframe thead th {\n",
       "        text-align: right;\n",
       "    }\n",
       "</style>\n",
       "<table border=\"1\" class=\"dataframe\">\n",
       "  <thead>\n",
       "    <tr style=\"text-align: right;\">\n",
       "      <th></th>\n",
       "      <th>Reviews</th>\n",
       "      <th>Sentiment</th>\n",
       "    </tr>\n",
       "  </thead>\n",
       "  <tbody>\n",
       "    <tr>\n",
       "      <th>0</th>\n",
       "      <td>film absolutely awful nevertheless hilarious t...</td>\n",
       "      <td>0</td>\n",
       "    </tr>\n",
       "    <tr>\n",
       "      <th>1</th>\n",
       "      <td>well since seeing part honestly say never made...</td>\n",
       "      <td>0</td>\n",
       "    </tr>\n",
       "    <tr>\n",
       "      <th>2</th>\n",
       "      <td>got see film preview dazzled typical romantic ...</td>\n",
       "      <td>1</td>\n",
       "    </tr>\n",
       "    <tr>\n",
       "      <th>3</th>\n",
       "      <td>adaptation positively butcher classic beloved ...</td>\n",
       "      <td>0</td>\n",
       "    </tr>\n",
       "    <tr>\n",
       "      <th>4</th>\n",
       "      <td>r zone awful movie simple seems tried make mov...</td>\n",
       "      <td>0</td>\n",
       "    </tr>\n",
       "  </tbody>\n",
       "</table>\n",
       "</div>"
      ],
      "text/plain": [
       "                                             Reviews  Sentiment\n",
       "0  film absolutely awful nevertheless hilarious t...          0\n",
       "1  well since seeing part honestly say never made...          0\n",
       "2  got see film preview dazzled typical romantic ...          1\n",
       "3  adaptation positively butcher classic beloved ...          0\n",
       "4  r zone awful movie simple seems tried make mov...          0"
      ]
     },
     "execution_count": 15,
     "metadata": {},
     "output_type": "execute_result"
    }
   ],
   "source": [
    "movie_review.head()"
   ]
  },
  {
   "cell_type": "code",
   "execution_count": 17,
   "metadata": {
    "execution": {
     "iopub.execute_input": "2025-08-13T08:07:23.413018Z",
     "iopub.status.busy": "2025-08-13T08:07:23.412726Z",
     "iopub.status.idle": "2025-08-13T10:41:25.388017Z",
     "shell.execute_reply": "2025-08-13T10:41:25.387333Z",
     "shell.execute_reply.started": "2025-08-13T08:07:23.412996Z"
    },
    "trusted": true
   },
   "outputs": [
    {
     "name": "stdout",
     "output_type": "stream",
     "text": [
      "Epoch 1/5\n",
      "\u001b[1m625/625\u001b[0m \u001b[32m━━━━━━━━━━━━━━━━━━━━\u001b[0m\u001b[37m\u001b[0m \u001b[1m1838s\u001b[0m 3s/step - accuracy: 0.7227 - loss: 0.5328 - val_accuracy: 0.8428 - val_loss: 0.3734\n",
      "Epoch 2/5\n",
      "\u001b[1m625/625\u001b[0m \u001b[32m━━━━━━━━━━━━━━━━━━━━\u001b[0m\u001b[37m\u001b[0m \u001b[1m1815s\u001b[0m 3s/step - accuracy: 0.8802 - loss: 0.3094 - val_accuracy: 0.8652 - val_loss: 0.3304\n",
      "Epoch 3/5\n",
      "\u001b[1m625/625\u001b[0m \u001b[32m━━━━━━━━━━━━━━━━━━━━\u001b[0m\u001b[37m\u001b[0m \u001b[1m1810s\u001b[0m 3s/step - accuracy: 0.9049 - loss: 0.2483 - val_accuracy: 0.8638 - val_loss: 0.3473\n",
      "Epoch 4/5\n",
      "\u001b[1m625/625\u001b[0m \u001b[32m━━━━━━━━━━━━━━━━━━━━\u001b[0m\u001b[37m\u001b[0m \u001b[1m1828s\u001b[0m 3s/step - accuracy: 0.9340 - loss: 0.1861 - val_accuracy: 0.8680 - val_loss: 0.3778\n",
      "Epoch 5/5\n",
      "\u001b[1m625/625\u001b[0m \u001b[32m━━━━━━━━━━━━━━━━━━━━\u001b[0m\u001b[37m\u001b[0m \u001b[1m1819s\u001b[0m 3s/step - accuracy: 0.9507 - loss: 0.1421 - val_accuracy: 0.8656 - val_loss: 0.4030\n",
      "\u001b[1m157/157\u001b[0m \u001b[32m━━━━━━━━━━━━━━━━━━━━\u001b[0m\u001b[37m\u001b[0m \u001b[1m128s\u001b[0m 816ms/step - accuracy: 0.8621 - loss: 0.4097\n",
      "Test Accuracy: 0.8655999898910522\n"
     ]
    }
   ],
   "source": [
    "tokenizer = Tokenizer(num_words=10000)  # Adjust the num_words as needed\n",
    "tokenizer.fit_on_texts(movie_review['Reviews'])\n",
    "X = tokenizer.texts_to_sequences(movie_review['Reviews'])\n",
    "X = pad_sequences(X, padding='post')\n",
    "\n",
    "y = movie_review['Sentiment'].values\n",
    "\n",
    "# Train-test split\n",
    "X_train, X_test, y_train, y_test = train_test_split(X, y, test_size=0.2, random_state=42)\n",
    "\n",
    "# BiLSTM model\n",
    "model = Sequential()\n",
    "model.add(Embedding(input_dim=10000, output_dim=128, input_length=X.shape[1]))\n",
    "model.add(Bidirectional(LSTM(64, dropout=0.2, recurrent_dropout=0.2)))\n",
    "model.add(Dense(1, activation='sigmoid'))\n",
    "\n",
    "# Compile the model\n",
    "model.compile(loss='binary_crossentropy', optimizer='adam', metrics=['accuracy'])\n",
    "\n",
    "# Train the model\n",
    "model.fit(X_train, y_train, epochs=5, batch_size=32, validation_data=(X_test, y_test))\n",
    "\n",
    "# Evaluate the model\n",
    "score, accuracy = model.evaluate(X_test, y_test)\n",
    "print(f\"Test Accuracy: {accuracy}\")"
   ]
  },
  {
   "cell_type": "code",
   "execution_count": 19,
   "metadata": {
    "execution": {
     "iopub.execute_input": "2025-08-13T10:45:18.528768Z",
     "iopub.status.busy": "2025-08-13T10:45:18.528469Z",
     "iopub.status.idle": "2025-08-13T10:49:29.833869Z",
     "shell.execute_reply": "2025-08-13T10:49:29.833259Z",
     "shell.execute_reply.started": "2025-08-13T10:45:18.528747Z"
    },
    "trusted": true
   },
   "outputs": [
    {
     "name": "stdout",
     "output_type": "stream",
     "text": [
      "\u001b[1m157/157\u001b[0m \u001b[32m━━━━━━━━━━━━━━━━━━━━\u001b[0m\u001b[37m\u001b[0m \u001b[1m123s\u001b[0m 783ms/step\n",
      "Precision: 0.8571\n",
      "Recall: 0.8737\n",
      "F1 Score: 0.8653\n",
      "\u001b[1m157/157\u001b[0m \u001b[32m━━━━━━━━━━━━━━━━━━━━\u001b[0m\u001b[37m\u001b[0m \u001b[1m128s\u001b[0m 816ms/step - accuracy: 0.8621 - loss: 0.4097\n",
      "Test Accuracy: 0.8656\n"
     ]
    }
   ],
   "source": [
    "from sklearn.metrics import precision_score, recall_score, f1_score \n",
    "y_pred = model.predict(X_test)\n",
    "y_pred = (y_pred > 0.5).astype(int)  # Convert probabilities to binary classes\n",
    "\n",
    "# Calculate Precision, Recall, and F1 score\n",
    "precision = precision_score(y_test, y_pred)\n",
    "recall = recall_score(y_test, y_pred)\n",
    "f1 = f1_score(y_test, y_pred)\n",
    "\n",
    "print(f\"Precision: {precision:.4f}\")\n",
    "print(f\"Recall: {recall:.4f}\")\n",
    "print(f\"F1 Score: {f1:.4f}\")\n",
    "\n",
    "# Evaluate the model\n",
    "score, accuracy = model.evaluate(X_test, y_test)\n",
    "print(f\"Test Accuracy: {accuracy:.4f}\")"
   ]
  }
 ],
 "metadata": {
  "kaggle": {
   "accelerator": "gpu",
   "dataSources": [
    {
     "datasetId": 344776,
     "sourceId": 681547,
     "sourceType": "datasetVersion"
    }
   ],
   "dockerImageVersionId": 31090,
   "isGpuEnabled": true,
   "isInternetEnabled": true,
   "language": "python",
   "sourceType": "notebook"
  },
  "kernelspec": {
   "display_name": "Python 3",
   "language": "python",
   "name": "python3"
  },
  "language_info": {
   "codemirror_mode": {
    "name": "ipython",
    "version": 3
   },
   "file_extension": ".py",
   "mimetype": "text/x-python",
   "name": "python",
   "nbconvert_exporter": "python",
   "pygments_lexer": "ipython3",
   "version": "3.10.11"
  }
 },
 "nbformat": 4,
 "nbformat_minor": 4
}
